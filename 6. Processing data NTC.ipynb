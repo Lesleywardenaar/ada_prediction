{
 "cells": [
  {
   "cell_type": "markdown",
   "metadata": {},
   "source": [
    "## Process different datasets into NTC format\n",
    "As the purpose of this research is to compare the results of a model based on different features. The dataset is now to be separated into different formats.\n"
   ]
  },
  {
   "cell_type": "code",
   "execution_count": 1,
   "metadata": {},
   "outputs": [
    {
     "ename": "FileNotFoundError",
     "evalue": "[Errno 2] File b'clean_all.csv' does not exist: b'clean_all.csv'",
     "output_type": "error",
     "traceback": [
      "\u001b[1;31m---------------------------------------------------------------------------\u001b[0m",
      "\u001b[1;31mFileNotFoundError\u001b[0m                         Traceback (most recent call last)",
      "\u001b[1;32m<ipython-input-1-b646ca9ea0be>\u001b[0m in \u001b[0;36m<module>\u001b[1;34m\u001b[0m\n\u001b[0;32m      2\u001b[0m \u001b[1;32mimport\u001b[0m \u001b[0mnumpy\u001b[0m \u001b[1;32mas\u001b[0m \u001b[0mnp\u001b[0m\u001b[1;33m\u001b[0m\u001b[1;33m\u001b[0m\u001b[0m\n\u001b[0;32m      3\u001b[0m \u001b[1;33m\u001b[0m\u001b[0m\n\u001b[1;32m----> 4\u001b[1;33m \u001b[0mdata\u001b[0m \u001b[1;33m=\u001b[0m \u001b[0mpd\u001b[0m\u001b[1;33m.\u001b[0m\u001b[0mread_csv\u001b[0m\u001b[1;33m(\u001b[0m\u001b[1;34m\"clean_all.csv\"\u001b[0m\u001b[1;33m,\u001b[0m \u001b[0mindex_col\u001b[0m \u001b[1;33m=\u001b[0m \u001b[1;36m0\u001b[0m\u001b[1;33m)\u001b[0m\u001b[1;33m\u001b[0m\u001b[1;33m\u001b[0m\u001b[0m\n\u001b[0m\u001b[0;32m      5\u001b[0m \u001b[0mdata\u001b[0m\u001b[1;33m\u001b[0m\u001b[1;33m\u001b[0m\u001b[0m\n",
      "\u001b[1;32m~\\Anaconda3\\lib\\site-packages\\pandas\\io\\parsers.py\u001b[0m in \u001b[0;36mparser_f\u001b[1;34m(filepath_or_buffer, sep, delimiter, header, names, index_col, usecols, squeeze, prefix, mangle_dupe_cols, dtype, engine, converters, true_values, false_values, skipinitialspace, skiprows, skipfooter, nrows, na_values, keep_default_na, na_filter, verbose, skip_blank_lines, parse_dates, infer_datetime_format, keep_date_col, date_parser, dayfirst, cache_dates, iterator, chunksize, compression, thousands, decimal, lineterminator, quotechar, quoting, doublequote, escapechar, comment, encoding, dialect, error_bad_lines, warn_bad_lines, delim_whitespace, low_memory, memory_map, float_precision)\u001b[0m\n\u001b[0;32m    683\u001b[0m         )\n\u001b[0;32m    684\u001b[0m \u001b[1;33m\u001b[0m\u001b[0m\n\u001b[1;32m--> 685\u001b[1;33m         \u001b[1;32mreturn\u001b[0m \u001b[0m_read\u001b[0m\u001b[1;33m(\u001b[0m\u001b[0mfilepath_or_buffer\u001b[0m\u001b[1;33m,\u001b[0m \u001b[0mkwds\u001b[0m\u001b[1;33m)\u001b[0m\u001b[1;33m\u001b[0m\u001b[1;33m\u001b[0m\u001b[0m\n\u001b[0m\u001b[0;32m    686\u001b[0m \u001b[1;33m\u001b[0m\u001b[0m\n\u001b[0;32m    687\u001b[0m     \u001b[0mparser_f\u001b[0m\u001b[1;33m.\u001b[0m\u001b[0m__name__\u001b[0m \u001b[1;33m=\u001b[0m \u001b[0mname\u001b[0m\u001b[1;33m\u001b[0m\u001b[1;33m\u001b[0m\u001b[0m\n",
      "\u001b[1;32m~\\Anaconda3\\lib\\site-packages\\pandas\\io\\parsers.py\u001b[0m in \u001b[0;36m_read\u001b[1;34m(filepath_or_buffer, kwds)\u001b[0m\n\u001b[0;32m    455\u001b[0m \u001b[1;33m\u001b[0m\u001b[0m\n\u001b[0;32m    456\u001b[0m     \u001b[1;31m# Create the parser.\u001b[0m\u001b[1;33m\u001b[0m\u001b[1;33m\u001b[0m\u001b[1;33m\u001b[0m\u001b[0m\n\u001b[1;32m--> 457\u001b[1;33m     \u001b[0mparser\u001b[0m \u001b[1;33m=\u001b[0m \u001b[0mTextFileReader\u001b[0m\u001b[1;33m(\u001b[0m\u001b[0mfp_or_buf\u001b[0m\u001b[1;33m,\u001b[0m \u001b[1;33m**\u001b[0m\u001b[0mkwds\u001b[0m\u001b[1;33m)\u001b[0m\u001b[1;33m\u001b[0m\u001b[1;33m\u001b[0m\u001b[0m\n\u001b[0m\u001b[0;32m    458\u001b[0m \u001b[1;33m\u001b[0m\u001b[0m\n\u001b[0;32m    459\u001b[0m     \u001b[1;32mif\u001b[0m \u001b[0mchunksize\u001b[0m \u001b[1;32mor\u001b[0m \u001b[0miterator\u001b[0m\u001b[1;33m:\u001b[0m\u001b[1;33m\u001b[0m\u001b[1;33m\u001b[0m\u001b[0m\n",
      "\u001b[1;32m~\\Anaconda3\\lib\\site-packages\\pandas\\io\\parsers.py\u001b[0m in \u001b[0;36m__init__\u001b[1;34m(self, f, engine, **kwds)\u001b[0m\n\u001b[0;32m    893\u001b[0m             \u001b[0mself\u001b[0m\u001b[1;33m.\u001b[0m\u001b[0moptions\u001b[0m\u001b[1;33m[\u001b[0m\u001b[1;34m\"has_index_names\"\u001b[0m\u001b[1;33m]\u001b[0m \u001b[1;33m=\u001b[0m \u001b[0mkwds\u001b[0m\u001b[1;33m[\u001b[0m\u001b[1;34m\"has_index_names\"\u001b[0m\u001b[1;33m]\u001b[0m\u001b[1;33m\u001b[0m\u001b[1;33m\u001b[0m\u001b[0m\n\u001b[0;32m    894\u001b[0m \u001b[1;33m\u001b[0m\u001b[0m\n\u001b[1;32m--> 895\u001b[1;33m         \u001b[0mself\u001b[0m\u001b[1;33m.\u001b[0m\u001b[0m_make_engine\u001b[0m\u001b[1;33m(\u001b[0m\u001b[0mself\u001b[0m\u001b[1;33m.\u001b[0m\u001b[0mengine\u001b[0m\u001b[1;33m)\u001b[0m\u001b[1;33m\u001b[0m\u001b[1;33m\u001b[0m\u001b[0m\n\u001b[0m\u001b[0;32m    896\u001b[0m \u001b[1;33m\u001b[0m\u001b[0m\n\u001b[0;32m    897\u001b[0m     \u001b[1;32mdef\u001b[0m \u001b[0mclose\u001b[0m\u001b[1;33m(\u001b[0m\u001b[0mself\u001b[0m\u001b[1;33m)\u001b[0m\u001b[1;33m:\u001b[0m\u001b[1;33m\u001b[0m\u001b[1;33m\u001b[0m\u001b[0m\n",
      "\u001b[1;32m~\\Anaconda3\\lib\\site-packages\\pandas\\io\\parsers.py\u001b[0m in \u001b[0;36m_make_engine\u001b[1;34m(self, engine)\u001b[0m\n\u001b[0;32m   1133\u001b[0m     \u001b[1;32mdef\u001b[0m \u001b[0m_make_engine\u001b[0m\u001b[1;33m(\u001b[0m\u001b[0mself\u001b[0m\u001b[1;33m,\u001b[0m \u001b[0mengine\u001b[0m\u001b[1;33m=\u001b[0m\u001b[1;34m\"c\"\u001b[0m\u001b[1;33m)\u001b[0m\u001b[1;33m:\u001b[0m\u001b[1;33m\u001b[0m\u001b[1;33m\u001b[0m\u001b[0m\n\u001b[0;32m   1134\u001b[0m         \u001b[1;32mif\u001b[0m \u001b[0mengine\u001b[0m \u001b[1;33m==\u001b[0m \u001b[1;34m\"c\"\u001b[0m\u001b[1;33m:\u001b[0m\u001b[1;33m\u001b[0m\u001b[1;33m\u001b[0m\u001b[0m\n\u001b[1;32m-> 1135\u001b[1;33m             \u001b[0mself\u001b[0m\u001b[1;33m.\u001b[0m\u001b[0m_engine\u001b[0m \u001b[1;33m=\u001b[0m \u001b[0mCParserWrapper\u001b[0m\u001b[1;33m(\u001b[0m\u001b[0mself\u001b[0m\u001b[1;33m.\u001b[0m\u001b[0mf\u001b[0m\u001b[1;33m,\u001b[0m \u001b[1;33m**\u001b[0m\u001b[0mself\u001b[0m\u001b[1;33m.\u001b[0m\u001b[0moptions\u001b[0m\u001b[1;33m)\u001b[0m\u001b[1;33m\u001b[0m\u001b[1;33m\u001b[0m\u001b[0m\n\u001b[0m\u001b[0;32m   1136\u001b[0m         \u001b[1;32melse\u001b[0m\u001b[1;33m:\u001b[0m\u001b[1;33m\u001b[0m\u001b[1;33m\u001b[0m\u001b[0m\n\u001b[0;32m   1137\u001b[0m             \u001b[1;32mif\u001b[0m \u001b[0mengine\u001b[0m \u001b[1;33m==\u001b[0m \u001b[1;34m\"python\"\u001b[0m\u001b[1;33m:\u001b[0m\u001b[1;33m\u001b[0m\u001b[1;33m\u001b[0m\u001b[0m\n",
      "\u001b[1;32m~\\Anaconda3\\lib\\site-packages\\pandas\\io\\parsers.py\u001b[0m in \u001b[0;36m__init__\u001b[1;34m(self, src, **kwds)\u001b[0m\n\u001b[0;32m   1915\u001b[0m         \u001b[0mkwds\u001b[0m\u001b[1;33m[\u001b[0m\u001b[1;34m\"usecols\"\u001b[0m\u001b[1;33m]\u001b[0m \u001b[1;33m=\u001b[0m \u001b[0mself\u001b[0m\u001b[1;33m.\u001b[0m\u001b[0musecols\u001b[0m\u001b[1;33m\u001b[0m\u001b[1;33m\u001b[0m\u001b[0m\n\u001b[0;32m   1916\u001b[0m \u001b[1;33m\u001b[0m\u001b[0m\n\u001b[1;32m-> 1917\u001b[1;33m         \u001b[0mself\u001b[0m\u001b[1;33m.\u001b[0m\u001b[0m_reader\u001b[0m \u001b[1;33m=\u001b[0m \u001b[0mparsers\u001b[0m\u001b[1;33m.\u001b[0m\u001b[0mTextReader\u001b[0m\u001b[1;33m(\u001b[0m\u001b[0msrc\u001b[0m\u001b[1;33m,\u001b[0m \u001b[1;33m**\u001b[0m\u001b[0mkwds\u001b[0m\u001b[1;33m)\u001b[0m\u001b[1;33m\u001b[0m\u001b[1;33m\u001b[0m\u001b[0m\n\u001b[0m\u001b[0;32m   1918\u001b[0m         \u001b[0mself\u001b[0m\u001b[1;33m.\u001b[0m\u001b[0munnamed_cols\u001b[0m \u001b[1;33m=\u001b[0m \u001b[0mself\u001b[0m\u001b[1;33m.\u001b[0m\u001b[0m_reader\u001b[0m\u001b[1;33m.\u001b[0m\u001b[0munnamed_cols\u001b[0m\u001b[1;33m\u001b[0m\u001b[1;33m\u001b[0m\u001b[0m\n\u001b[0;32m   1919\u001b[0m \u001b[1;33m\u001b[0m\u001b[0m\n",
      "\u001b[1;32mpandas\\_libs\\parsers.pyx\u001b[0m in \u001b[0;36mpandas._libs.parsers.TextReader.__cinit__\u001b[1;34m()\u001b[0m\n",
      "\u001b[1;32mpandas\\_libs\\parsers.pyx\u001b[0m in \u001b[0;36mpandas._libs.parsers.TextReader._setup_parser_source\u001b[1;34m()\u001b[0m\n",
      "\u001b[1;31mFileNotFoundError\u001b[0m: [Errno 2] File b'clean_all.csv' does not exist: b'clean_all.csv'"
     ]
    }
   ],
   "source": [
    "import pandas as pd\n",
    "import numpy as np\n",
    "\n",
    "data = pd.read_csv(\"clean_all.csv\", index_col = 0)\n",
    "data"
   ]
  },
  {
   "cell_type": "code",
   "execution_count": 10,
   "metadata": {},
   "outputs": [
    {
     "data": {
      "text/plain": [
       "Index(['timestamp', 'unix', 'close', 'volume', 'trades', 'volatility',\n",
       "       'return', 'EWM72', 'EWM12', 'MACD', 'CMF', 'RSI72', 'RSI12',\n",
       "       'tweets_vol', 'reddit_vol', 'reddit_score', 'tweets_replies',\n",
       "       'tweets_retweets', 'tweets_likes', 't_compound', 't_CumPositive',\n",
       "       't_CumNegative', 't_CumCompound', 'r_compound', 'r_CumPositive',\n",
       "       'r_CumNegative', 'r_CumCompound'],\n",
       "      dtype='object')"
      ]
     },
     "execution_count": 10,
     "metadata": {},
     "output_type": "execute_result"
    }
   ],
   "source": [
    "data.columns"
   ]
  },
  {
   "cell_type": "code",
   "execution_count": 11,
   "metadata": {},
   "outputs": [],
   "source": [
    "univeriate = data[[\"close\"]]\n",
    "hist_all = data[[\"close\", \"volume\", \"volatility\", \"trades\", \"return\", 'EWM72', \"EWM12\", \"MACD\", \"CMF\", \"RSI72\", \"RSI12\"]]\n",
    "twitter = data[[\"close\", \"tweets_vol\", \"tweets_replies\", \"tweets_retweets\", \"tweets_likes\", \"t_CumPositive\", \"t_CumNegative\", \"t_CumCompound\"]]\n",
    "reddit = data[[\"close\", \"reddit_vol\", \"reddit_score\", \"r_CumPositive\", \"r_CumNegative\", \"r_CumCompound\"]]\n",
    "all_feat = data[[\"close\", \"volume\", \"trades\", \"volatility\", \"return\", \"EWM72\", \"EWM12\", \"MACD\", \"CMF\", \"RSI72\", \"RSI12\", \"tweets_vol\", \"reddit_vol\",\\\n",
    "                 \"reddit_score\", \"tweets_replies\", \"tweets_retweets\", \"tweets_likes\", \"t_CumPositive\", \"t_CumNegative\", \"t_CumCompound\", \"r_CumPositive\",\\\n",
    "                 \"r_CumNegative\", \"r_CumCompound\"]]"
   ]
  },
  {
   "cell_type": "code",
   "execution_count": 12,
   "metadata": {},
   "outputs": [],
   "source": [
    "def process_data_NTC(data, seq_len = 1, val_split = 0.15, test_split = 0.00001, pred_steps = 1):\n",
    "    train_split = 1 - (val_split + test_split)\n",
    "    from sklearn.preprocessing import MinMaxScaler\n",
    "    scaler = MinMaxScaler()\n",
    "    norm = scaler.fit_transform(data)\n",
    "    \n",
    "    y = norm[seq_len+pred_steps:,0]\n",
    "    X = norm[:-pred_steps]\n",
    "    \n",
    "    \n",
    "    VAL_INDEX = int(len(y) * train_split)\n",
    "    TEST_INDEX = int(len(y) * (train_split + val_split))\n",
    "    \n",
    "    y_train = y[:VAL_INDEX]\n",
    "    y_val = y[VAL_INDEX:TEST_INDEX]\n",
    "    y_test = y[TEST_INDEX:]\n",
    "    \n",
    "    X_train = np.expand_dims(X[:seq_len], axis = 0)\n",
    "    X_val = np.expand_dims(X[VAL_INDEX:VAL_INDEX+seq_len], axis = 0)\n",
    "    X_test = np.expand_dims(X[TEST_INDEX:TEST_INDEX+seq_len], axis = 0)\n",
    "    \n",
    "    \n",
    "    for i in range( X.shape[0] - seq_len):\n",
    "        if i == 0 or i == VAL_INDEX or i == TEST_INDEX:\n",
    "            continue\n",
    "        if i >= TEST_INDEX:\n",
    "            X_test = np.concatenate((X_test, np.expand_dims(X[i:i+seq_len], axis = 0)), axis = 0)\n",
    "        elif i >= VAL_INDEX:\n",
    "            X_val = np.concatenate((X_val, np.expand_dims(X[i:i+seq_len], axis = 0)), axis = 0)\n",
    "        else:\n",
    "            X_train = np.concatenate((X_train, np.expand_dims(X[i:i+seq_len], axis = 0)), axis = 0)\n",
    "                                 \n",
    "    return X_train, y_train, X_val, y_val, X_test, y_test\n",
    "\n",
    "\n",
    "univeriate = process_data_NTC(univeriate, seq_len = 5, val_split = 0.1, test_split = 0.2)\n",
    "hist_all = process_data_NTC(hist_all, seq_len = 5, val_split = 0.1, test_split = 0.2)\n",
    "twitter = process_data_NTC(twitter, seq_len = 5, val_split = 0.1, test_split = 0.2)\n",
    "reddit = process_data_NTC(reddit, seq_len = 5, val_split = 0.1, test_split = 0.2)\n",
    "all_feat = process_data_NTC(all_feat, seq_len = 5, val_split = 0.1, test_split = 0.2)"
   ]
  },
  {
   "cell_type": "code",
   "execution_count": 13,
   "metadata": {},
   "outputs": [],
   "source": [
    "data_ = [univeriate, hist_all, twitter, reddit, all_feat]\n",
    "np.savez(\"len_5\", data_)"
   ]
  },
  {
   "cell_type": "code",
   "execution_count": 14,
   "metadata": {},
   "outputs": [],
   "source": [
    "univeriate = data[[\"close\"]]\n",
    "hist_all = data[[\"close\", \"volume\", \"volatility\", \"trades\", \"return\", 'EWM72', \"EWM12\", \"MACD\", \"CMF\", \"RSI72\", \"RSI12\"]]\n",
    "twitter = data[[\"close\", \"tweets_vol\", \"tweets_replies\", \"tweets_retweets\", \"tweets_likes\", \"t_compound\", \"t_CumPositive\", \"t_CumNegative\", \"t_CumCompound\"]]\n",
    "reddit = data[[\"close\", \"reddit_vol\", \"reddit_score\", \"r_compound\", \"r_CumPositive\", \"r_CumNegative\", \"r_CumCompound\"]]\n",
    "all_feat = data[[\"close\", \"volume\", \"trades\", \"volatility\", \"return\", \"EWM72\", \"EWM12\", \"MACD\", \"CMF\", \"RSI72\", \"RSI12\", \"tweets_vol\", \"reddit_vol\",\\\n",
    "                 \"reddit_score\", \"tweets_replies\", \"tweets_retweets\", \"tweets_likes\", \"t_compound\", \"t_CumPositive\", \"t_CumNegative\", \"t_CumCompound\",\\\n",
    "                 \"r_compound\", \"r_CumPositive\", \"r_CumNegative\", \"r_CumCompound\"]]"
   ]
  },
  {
   "cell_type": "code",
   "execution_count": 15,
   "metadata": {},
   "outputs": [],
   "source": [
    "univeriate = process_data_NTC(univeriate, seq_len = 10, val_split = 0.1, test_split = 0.2)\n",
    "hist_all = process_data_NTC(hist_all, seq_len = 10, val_split = 0.1, test_split = 0.2)\n",
    "twitter = process_data_NTC(twitter, seq_len = 10, val_split = 0.1, test_split = 0.2)\n",
    "reddit = process_data_NTC(reddit, seq_len = 10, val_split = 0.1, test_split = 0.2)\n",
    "all_feat = process_data_NTC(all_feat, seq_len = 10, val_split = 0.1, test_split = 0.2)\n",
    "\n",
    "data_ = [univeriate, hist_all, twitter, reddit, all_feat]\n",
    "np.savez(\"len_10\", data_)"
   ]
  },
  {
   "cell_type": "code",
   "execution_count": 16,
   "metadata": {},
   "outputs": [],
   "source": [
    "univeriate = data[[\"close\"]]\n",
    "hist_all = data[[\"close\", \"volume\", \"volatility\", \"trades\", \"return\", 'EWM72', \"EWM12\", \"MACD\", \"CMF\", \"RSI72\", \"RSI12\"]]\n",
    "twitter = data[[\"close\", \"tweets_vol\", \"tweets_replies\", \"tweets_retweets\", \"tweets_likes\", \"t_compound\", \"t_CumPositive\", \"t_CumNegative\", \"t_CumCompound\"]]\n",
    "reddit = data[[\"close\", \"reddit_vol\", \"reddit_score\", \"r_compound\", \"r_CumPositive\", \"r_CumNegative\", \"r_CumCompound\"]]\n",
    "all_feat = data[[\"close\", \"volume\", \"trades\", \"volatility\", \"return\", \"EWM72\", \"EWM12\", \"MACD\", \"CMF\", \"RSI72\", \"RSI12\", \"tweets_vol\", \"reddit_vol\",\\\n",
    "                 \"reddit_score\", \"tweets_replies\", \"tweets_retweets\", \"tweets_likes\", \"t_compound\", \"t_CumPositive\", \"t_CumNegative\", \"t_CumCompound\",\\\n",
    "                 \"r_compound\", \"r_CumPositive\", \"r_CumNegative\", \"r_CumCompound\"]]"
   ]
  },
  {
   "cell_type": "code",
   "execution_count": 17,
   "metadata": {},
   "outputs": [],
   "source": [
    "univeriate = process_data_NTC(univeriate, seq_len = 15, val_split = 0.1, test_split = 0.2)\n",
    "hist_all = process_data_NTC(hist_all, seq_len = 15, val_split = 0.1, test_split = 0.2)\n",
    "twitter = process_data_NTC(twitter, seq_len = 15, val_split = 0.1, test_split = 0.2)\n",
    "reddit = process_data_NTC(reddit, seq_len = 15, val_split = 0.1, test_split = 0.2)\n",
    "all_feat = process_data_NTC(all_feat, seq_len = 15, val_split = 0.1, test_split = 0.2)\n",
    "\n",
    "data_ = [univeriate, hist_all, twitter, reddit, all_feat]\n",
    "np.savez(\"len_15\", data_)"
   ]
  },
  {
   "cell_type": "code",
   "execution_count": 18,
   "metadata": {},
   "outputs": [],
   "source": [
    "univeriate = data[[\"close\"]]\n",
    "hist_all = data[[\"close\", \"volume\", \"volatility\", \"trades\", \"return\", 'EWM72', \"EWM12\", \"MACD\", \"CMF\", \"RSI72\", \"RSI12\"]]\n",
    "twitter = data[[\"close\", \"tweets_vol\", \"tweets_replies\", \"tweets_retweets\", \"tweets_likes\", \"t_compound\", \"t_CumPositive\", \"t_CumNegative\", \"t_CumCompound\"]]\n",
    "reddit = data[[\"close\", \"reddit_vol\", \"reddit_score\", \"r_compound\", \"r_CumPositive\", \"r_CumNegative\", \"r_CumCompound\"]]\n",
    "all_feat = data[[\"close\", \"volume\", \"trades\", \"volatility\", \"return\", \"EWM72\", \"EWM12\", \"MACD\", \"CMF\", \"RSI72\", \"RSI12\", \"tweets_vol\", \"reddit_vol\",\\\n",
    "                 \"reddit_score\", \"tweets_replies\", \"tweets_retweets\", \"tweets_likes\", \"t_compound\", \"t_CumPositive\", \"t_CumNegative\", \"t_CumCompound\",\\\n",
    "                 \"r_compound\", \"r_CumPositive\", \"r_CumNegative\", \"r_CumCompound\"]]"
   ]
  },
  {
   "cell_type": "code",
   "execution_count": 19,
   "metadata": {},
   "outputs": [],
   "source": [
    "univeriate = process_data_NTC(univeriate, seq_len = 20, val_split = 0.1, test_split = 0.2)\n",
    "hist_all = process_data_NTC(hist_all, seq_len = 20, val_split = 0.1, test_split = 0.2)\n",
    "twitter = process_data_NTC(twitter, seq_len = 20, val_split = 0.1, test_split = 0.2)\n",
    "reddit = process_data_NTC(reddit, seq_len = 20, val_split = 0.1, test_split = 0.2)\n",
    "all_feat = process_data_NTC(all_feat, seq_len = 20, val_split = 0.1, test_split = 0.2)\n",
    "\n",
    "data_ = [univeriate, hist_all, twitter, reddit, all_feat]\n",
    "np.savez(\"len_20\", data_)"
   ]
  },
  {
   "cell_type": "code",
   "execution_count": null,
   "metadata": {},
   "outputs": [],
   "source": []
  }
 ],
 "metadata": {
  "kernelspec": {
   "display_name": "Python 3",
   "language": "python",
   "name": "python3"
  },
  "language_info": {
   "codemirror_mode": {
    "name": "ipython",
    "version": 3
   },
   "file_extension": ".py",
   "mimetype": "text/x-python",
   "name": "python",
   "nbconvert_exporter": "python",
   "pygments_lexer": "ipython3",
   "version": "3.7.4"
  }
 },
 "nbformat": 4,
 "nbformat_minor": 2
}
