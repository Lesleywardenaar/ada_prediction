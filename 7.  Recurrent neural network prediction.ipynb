{
 "cells": [
  {
   "cell_type": "markdown",
   "metadata": {},
   "source": [
    "## Modelling the data\n",
    "Only simple RNN, GRU and LSTM for now..."
   ]
  },
  {
   "cell_type": "code",
   "execution_count": 13,
   "metadata": {},
   "outputs": [
    {
     "name": "stdout",
     "output_type": "stream",
     "text": [
      "Found GPU at: /device:GPU:0\n"
     ]
    }
   ],
   "source": [
    "import pandas as pd\n",
    "import numpy as np\n",
    "import tensorflow as tf\n",
    "\n",
    "from matplotlib import pyplot\n",
    "import matplotlib.pyplot as plt\n",
    "from tensorflow.keras.callbacks import EarlyStopping\n",
    "from sklearn.metrics import mean_absolute_error\n",
    "\n",
    "seed = 777\n",
    "np.random.seed(seed)\n",
    "\n",
    "# Setting the GPU up.\n",
    "device_name = tf.test.gpu_device_name()\n",
    "if device_name != '/device:GPU:0':\n",
    "    raise SystemError('GPU device not found')\n",
    "print(f'Found GPU at: {device_name}')"
   ]
  },
  {
   "cell_type": "code",
   "execution_count": 14,
   "metadata": {},
   "outputs": [
    {
     "name": "stdout",
     "output_type": "stream",
     "text": [
      "[PhysicalDevice(name='/physical_device:GPU:0', device_type='GPU')]\n"
     ]
    }
   ],
   "source": [
    "np.set_printoptions(precision=None, suppress=True)\n",
    "gpu_devices = tf.config.experimental.list_physical_devices('GPU')\n",
    "print(gpu_devices)\n",
    "for device in gpu_devices:\n",
    "    tf.config.experimental.set_memory_growth(device, True)"
   ]
  },
  {
   "cell_type": "code",
   "execution_count": 8,
   "metadata": {},
   "outputs": [],
   "source": []
  },
  {
   "cell_type": "code",
   "execution_count": 17,
   "metadata": {},
   "outputs": [
    {
     "name": "stdout",
     "output_type": "stream",
     "text": [
      "LSTM performance [0.00057503 0.00069178 0.05326847]\n",
      "GRU performance [0.00041449 0.00046188 0.02063311]\n",
      "RNN performance [0.00065487 0.00080785 0.03870938]\n",
      "LSTM performance [0.00045671 0.00071575 0.05017431]\n",
      "GRU performance [0.00070266 0.00089384 0.06447998]\n",
      "RNN performance [0.00076014 0.00092868 0.02188781]\n",
      "LSTM performance [0.00071569 0.00146946 0.04663566]\n",
      "GRU performance [0.00055242 0.00065052 0.01853566]\n",
      "RNN performance [0.00056969 0.00063076 0.03228565]\n",
      "LSTM performance [0.00092306 0.00181045 0.04686391]\n",
      "GRU performance [0.00189654 0.00180809 0.02478022]\n",
      "RNN performance [0.00472771 0.0077375  0.04076413]\n",
      "LSTM performance [0.00071882 0.00083743 0.07168563]\n",
      "GRU performance [0.00135931 0.00299745 0.06469355]\n",
      "RNN performance [0.00154823 0.00182933 0.03218242]\n",
      "LSTM performance [0.00056915 0.0006676  0.05663262]\n",
      "GRU performance [0.00054351 0.00055342 0.01858716]\n",
      "RNN performance [0.00043944 0.00055956 0.01422955]\n",
      "LSTM performance [0.00047679 0.00065448 0.07758546]\n",
      "GRU performance [0.0006505  0.00082099 0.04738896]\n",
      "RNN performance [0.00245644 0.00228397 0.03472947]\n",
      "LSTM performance [0.00086178 0.00143189 0.02177273]\n",
      "GRU performance [0.00086899 0.00114731 0.01398087]\n",
      "RNN performance [0.0009985  0.00147231 0.03751457]\n",
      "LSTM performance [0.0008182  0.00118193 0.05662089]\n",
      "GRU performance [0.00062063 0.00098944 0.0307837 ]\n",
      "RNN performance [0.0015286  0.000977   0.25599318]\n",
      "LSTM performance [0.00095033 0.00121675 0.07069835]\n",
      "GRU performance [0.00186118 0.00371603 0.03733298]\n",
      "RNN performance [0.00293064 0.00324239 0.04040791]\n",
      "LSTM performance [0.00048193 0.00059288 0.04883099]\n",
      "GRU performance [0.00044802 0.00056554 0.00795751]\n",
      "RNN performance [0.00043944 0.00052679 0.03070696]\n",
      "LSTM performance [0.00056364 0.00092146 0.06418134]\n",
      "GRU performance [0.00079242 0.00099751 0.01980673]\n",
      "RNN performance [0.00113638 0.00119593 0.02971477]\n",
      "LSTM performance [0.00052707 0.00065622 0.03656173]\n",
      "GRU performance [0.00124498 0.00185009 0.03992594]\n",
      "RNN performance [0.0006251  0.00087946 0.01309701]\n",
      "LSTM performance [0.00135887 0.00165202 0.07960758]\n",
      "GRU performance [0.00108512 0.0012871  0.05648868]\n",
      "RNN performance [0.00373995 0.00553384 0.03118069]\n",
      "LSTM performance [0.00107926 0.00128659 0.08227885]\n",
      "GRU performance [0.00127438 0.0016176  0.06461519]\n",
      "RNN performance [0.000975   0.00146897 0.02766746]\n",
      "LSTM performance [0.0005421  0.00063997 0.0499511 ]\n",
      "GRU performance [0.00038894 0.00051734 0.01326694]\n",
      "RNN performance [0.00047875 0.00062892 0.01392722]\n",
      "LSTM performance [0.00099001 0.00155515 0.02824525]\n",
      "GRU performance [0.00246259 0.00303396 0.06911033]\n",
      "RNN performance [0.0017055  0.00172795 0.25757752]\n",
      "LSTM performance [0.00063478 0.00087092 0.0358807 ]\n",
      "GRU performance [0.00080086 0.00091204 0.00978955]\n",
      "RNN performance [0.00182681 0.00278892 0.04020698]\n",
      "LSTM performance [0.00128716 0.00163435 0.04246452]\n",
      "GRU performance [0.0009649  0.00124446 0.01234396]\n",
      "RNN performance [0.00079255 0.00087577 0.03779578]\n",
      "LSTM performance [0.00074922 0.00118281 0.03857001]\n",
      "GRU performance [0.00281523 0.00442067 0.06357266]\n",
      "RNN performance [0.00288106 0.00276175 0.25731616]\n"
     ]
    }
   ],
   "source": [
    "early_stopping = EarlyStopping(monitor = 'val_loss', patience = 1)\n",
    "LSTM_performance = np.zeros((3,1))\n",
    "GRU_performance = np.zeros((3,1))\n",
    "RNN_performance = np.zeros((3,1))\n",
    "\n",
    "for data in ['len_5.npz', 'len_10.npz', 'len_15.npz', 'len_20.npz']:\n",
    "    feature_set = np.load(data, allow_pickle = True)\n",
    "    for feature in feature_set['arr_0']:\n",
    "        X_train, y_train, X_val, y_val, X_test, y_test = feature\n",
    "        \n",
    "        LSTM_model = tf.keras.models.Sequential()\n",
    "        LSTM_model.add(tf.keras.layers.LSTM(1, input_shape=(X_train.shape[1], X_train.shape[2])))\n",
    "        LSTM_model.compile(loss='mae', optimizer='adam')\n",
    "        \n",
    "        history = LSTM_model.fit(X_train, y_train, epochs=20, validation_data=(X_val, y_val), verbose=0, callbacks=[early_stopping])\n",
    "        \n",
    "        performance = np.array([history.history['loss'][-1], history.history['val_loss'][-1],\\\n",
    "                                mean_absolute_error(y_true = y_test, y_pred = LSTM_model.predict(X_test))])\n",
    "        LSTM_performance = np.append(LSTM_performance, performance.reshape((3,1)), axis = 1)\n",
    "        print(\"LSTM performance\", performance)\n",
    "        \n",
    "        GRU_model = tf.keras.models.Sequential()\n",
    "        GRU_model.add(tf.keras.layers.GRU(1, input_shape=(X_train.shape[1], X_train.shape[2])))\n",
    "        GRU_model.compile(loss='mae', optimizer='adam')\n",
    "\n",
    "        history = GRU_model.fit(X_train, y_train, epochs=20, validation_data=(X_val, y_val), verbose=0, callbacks=[early_stopping])\n",
    "        \n",
    "        performance = np.array([history.history['loss'][-1], history.history['val_loss'][-1],\\\n",
    "                                mean_absolute_error(y_true = y_test, y_pred = GRU_model.predict(X_test))])\n",
    "        GRU_performance = np.append(GRU_performance, performance.reshape((3,1)), axis = 1)\n",
    "        print(\"GRU performance\", performance)\n",
    "        \n",
    "        RNN_model = tf.keras.models.Sequential()\n",
    "        RNN_model.add(tf.keras.layers.SimpleRNN(1, input_shape=(X_train.shape[1], X_train.shape[2])))\n",
    "        RNN_model.compile(loss='mae', optimizer='adam')\n",
    "        \n",
    "        history = RNN_model.fit(X_train, y_train, epochs=20, validation_data=(X_val, y_val), verbose=0, callbacks=[early_stopping])\n",
    "        \n",
    "        performance = np.array([history.history['loss'][-1], history.history['val_loss'][-1],\\\n",
    "                                mean_absolute_error(y_true = y_test, y_pred = RNN_model.predict(X_test))])\n",
    "        RNN_performance = np.append(RNN_performance, performance.reshape((3,1)), axis = 1)\n",
    "        print(\"RNN performance\", performance)\n",
    "        "
   ]
  },
  {
   "cell_type": "code",
   "execution_count": 5,
   "metadata": {},
   "outputs": [
    {
     "data": {
      "text/plain": [
       "(5, 6)"
      ]
     },
     "execution_count": 5,
     "metadata": {},
     "output_type": "execute_result"
    }
   ],
   "source": [
    "train = np.load('len_5.npz', allow_pickle = True)\n",
    "train['arr_0'].shape"
   ]
  },
  {
   "cell_type": "code",
   "execution_count": 40,
   "metadata": {},
   "outputs": [],
   "source": [
    "LSTM_train_len5 = LSTM_performance[0,1:6]\n",
    "LSTM_train_len10 = LSTM_performance[0,6:11]\n",
    "LSTM_train_len15 = LSTM_performance[0,11:16]\n",
    "LSTM_train_len20 = LSTM_performance[0,16:]\n",
    "LSTM_val_len5 = LSTM_performance[1,1:6]\n",
    "LSTM_val_len10 = LSTM_performance[1,6:11]\n",
    "LSTM_val_len15 = LSTM_performance[1,11:16]\n",
    "LSTM_val_len20 = LSTM_performance[1,16:]\n",
    "LSTM_test_len5 = LSTM_performance[2,1:6]\n",
    "LSTM_test_len10 = LSTM_performance[2,6:11]\n",
    "LSTM_test_len15 = LSTM_performance[2,11:16]\n",
    "LSTM_test_len20 = LSTM_performance[2,16:]\n",
    "\n",
    "GRU_train_len5 = GRU_performance[0,1:6]\n",
    "GRU_train_len10 = GRU_performance[0,6:11]\n",
    "GRU_train_len15 = GRU_performance[0,11:16]\n",
    "GRU_train_len20 = GRU_performance[0,16:]\n",
    "GRU_val_len5 = GRU_performance[1,1:6]\n",
    "GRU_val_len10 = GRU_performance[1,6:11]\n",
    "GRU_val_len15 = GRU_performance[1,11:16]\n",
    "GRU_val_len20 = GRU_performance[1,16:]\n",
    "GRU_test_len5 = GRU_performance[2,1:6]\n",
    "GRU_test_len10 = GRU_performance[2,6:11]\n",
    "GRU_test_len15 = GRU_performance[2,11:16]\n",
    "GRU_test_len20 = GRU_performance[2,16:]\n",
    "\n",
    "RNN_train_len5 = RNN_performance[0,1:6]\n",
    "RNN_train_len10 = RNN_performance[0,6:11]\n",
    "RNN_train_len15 = RNN_performance[0,11:16]\n",
    "RNN_train_len20 = RNN_performance[0,16:]\n",
    "RNN_val_len5 = RNN_performance[1,1:6]\n",
    "RNN_val_len10 = RNN_performance[1,6:11]\n",
    "RNN_val_len15 = RNN_performance[1,11:16]\n",
    "RNN_val_len20 = RNN_performance[1,16:]\n",
    "RNN_test_len5 = RNN_performance[2,1:6]\n",
    "RNN_test_len10 = RNN_performance[2,6:11]\n",
    "RNN_test_len15 = RNN_performance[2,11:16]\n",
    "RNN_test_len20 = RNN_performance[2,16:]\n",
    "\n",
    "LSTM_df = pd.DataFrame(np.array([LSTM_train_len5, LSTM_val_len5, LSTM_test_len5, LSTM_train_len10, LSTM_val_len10,LSTM_test_len10, LSTM_train_len15,\\\n",
    "                       LSTM_val_len15, LSTM_test_len15, LSTM_train_len20, LSTM_val_len20, LSTM_test_len20]).T)\n",
    "GRU_df = pd.DataFrame(np.array([GRU_train_len5, GRU_val_len5, GRU_test_len5, GRU_train_len10, GRU_val_len10,GRU_test_len10, GRU_train_len15,\\\n",
    "                       GRU_val_len15, GRU_test_len15, GRU_train_len20, GRU_val_len20, GRU_test_len20]).T)\n",
    "RNN_df = pd.DataFrame(np.array([RNN_train_len5, RNN_val_len5, RNN_test_len5, RNN_train_len10, RNN_val_len10,RNN_test_len10, RNN_train_len15,\\\n",
    "                       RNN_val_len15, RNN_test_len15, RNN_train_len20, RNN_val_len20, RNN_test_len20]).T)"
   ]
  },
  {
   "cell_type": "code",
   "execution_count": 45,
   "metadata": {},
   "outputs": [],
   "source": [
    "round(LSTM_df,5).to_csv(\"LSTM_df.csv\")\n",
    "round(GRU_df,5).to_csv(\"GRU_df.csv\")\n",
    "round(RNN_df,5).to_csv(\"RNN_df.csv\")"
   ]
  },
  {
   "cell_type": "code",
   "execution_count": 23,
   "metadata": {},
   "outputs": [
    {
     "ename": "AttributeError",
     "evalue": "module 'matplotlib.pyplot' has no attribute 'chart'",
     "output_type": "error",
     "traceback": [
      "\u001b[1;31m---------------------------------------------------------------------------\u001b[0m",
      "\u001b[1;31mAttributeError\u001b[0m                            Traceback (most recent call last)",
      "\u001b[1;32m<ipython-input-23-7ed35b890cf7>\u001b[0m in \u001b[0;36m<module>\u001b[1;34m\u001b[0m\n\u001b[0;32m      3\u001b[0m                              RNN_performance[0].mean(), RNN_performance[1].mean(), RNN_performance[2].mean()]\n\u001b[0;32m      4\u001b[0m \u001b[1;33m\u001b[0m\u001b[0m\n\u001b[1;32m----> 5\u001b[1;33m \u001b[0mplt\u001b[0m\u001b[1;33m.\u001b[0m\u001b[0mchart\u001b[0m\u001b[1;33m(\u001b[0m\u001b[0maverage_model_performance\u001b[0m\u001b[1;33m)\u001b[0m\u001b[1;33m\u001b[0m\u001b[1;33m\u001b[0m\u001b[0m\n\u001b[0m",
      "\u001b[1;31mAttributeError\u001b[0m: module 'matplotlib.pyplot' has no attribute 'chart'"
     ]
    }
   ],
   "source": [
    "average_model_performance = [LSTM_performance[0].mean(), LSTM_performance[1].mean(), LSTM_performance[2].mean(),\\\n",
    "                             GRU_performance[0].mean(), GRU_performance[1].mean(), GRU_performance[2].mean(),\\\n",
    "                             RNN_performance[0].mean(), RNN_performance[1].mean(), RNN_performance[2].mean()]\n",
    "\n",
    "plt.chart(average_model_performance)"
   ]
  },
  {
   "cell_type": "code",
   "execution_count": 28,
   "metadata": {},
   "outputs": [
    {
     "data": {
      "image/png": "[encoded data removed]",
      "text/plain": [
       "<Figure size 432x288 with 1 Axes>"
      ]
     },
     "metadata": {
      "needs_background": "light"
     },
     "output_type": "display_data"
    }
   ],
   "source": [
    "n_groups = 3\n",
    "LSTM = [LSTM_performance[0].mean(), LSTM_performance[1].mean(), LSTM_performance[2].mean()]\n",
    "GRU = [GRU_performance[0].mean(), GRU_performance[1].mean(), GRU_performance[2].mean()]\n",
    "RNN = [RNN_performance[0].mean(), RNN_performance[1].mean(), RNN_performance[2].mean()]\n",
    "\n",
    "\n",
    "labels = [\"Train\", \"Val\", \"Test\"]\n",
    "\n",
    "\n",
    "x = np.arange(len(labels))  # the label locations\n",
    "width = 0.25  # the width of the bars\n",
    "\n",
    "fig, ax = plt.subplots()\n",
    "rects1 = ax.bar(x - width/3, LSTM, width, label='LSTM')\n",
    "rects2 = ax.bar(x + width/3, GRU, width, label='GRU')\n",
    "rects3 = ax.bar(x + 2 * width/3, RNN, width, label='RNN')\n",
    "\n",
    "# Add some text for labels, title and custom x-axis tick labels, etc.\n",
    "ax.set_ylabel('MAE')\n",
    "\n",
    "ax.set_xticks(x)\n",
    "ax.set_xticklabels(labels)\n",
    "ax.legend()\n",
    "\n",
    "\n",
    "fig.tight_layout()\n",
    "\n",
    "plt.savefig(\"Model_Comp.pdf\")"
   ]
  },
  {
   "cell_type": "code",
   "execution_count": null,
   "metadata": {},
   "outputs": [],
   "source": []
  }
 ],
 "metadata": {
  "kernelspec": {
   "display_name": "Python 3",
   "language": "python",
   "name": "python3"
  },
  "language_info": {
   "codemirror_mode": {
    "name": "ipython",
    "version": 3
   },
   "file_extension": ".py",
   "mimetype": "text/x-python",
   "name": "python",
   "nbconvert_exporter": "python",
   "pygments_lexer": "ipython3",
   "version": "3.7.4"
  }
 },
 "nbformat": 4,
 "nbformat_minor": 2
}
